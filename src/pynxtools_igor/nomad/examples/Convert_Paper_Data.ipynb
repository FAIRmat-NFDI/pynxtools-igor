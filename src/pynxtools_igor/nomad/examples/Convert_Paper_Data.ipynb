{
 "cells": [
  {
   "cell_type": "code",
   "execution_count": 1,
   "metadata": {},
   "outputs": [],
   "source": [
    "%load_ext autoreload\n",
    "%autoreload 2\n",
    "from pynxtools.dataconverter.convert import convert"
   ]
  },
  {
   "cell_type": "code",
   "execution_count": 7,
   "metadata": {},
   "outputs": [
    {
     "name": "stderr",
     "output_type": "stream",
     "text": [
      "Using igor_fhi reader to convert the given files:  \n",
      "• config_file_peaks.json\n",
      "• Fig2a.pxp\n"
     ]
    },
    {
     "name": "stderr",
     "output_type": "stream",
     "text": [
      "WARNING: The data entry corresponding to /ENTRY[16K]/INSTRUMENT[instrument]/DETECTOR[detector]/polar_angle is required and hasn't been supplied by the reader.\n",
      "WARNING: The data entry corresponding to /ENTRY[16K]/DATA[data]/polar_angle is required and hasn't been supplied by the reader.\n",
      "WARNING: The data entry corresponding to /ENTRY[16K]/DATA[data]/data is required and hasn't been supplied by the reader.\n",
      "WARNING: The data entry corresponding to /ENTRY[32K]/INSTRUMENT[instrument]/DETECTOR[detector]/polar_angle is required and hasn't been supplied by the reader.\n",
      "WARNING: The data entry corresponding to /ENTRY[32K]/DATA[data]/polar_angle is required and hasn't been supplied by the reader.\n",
      "WARNING: The data entry corresponding to /ENTRY[32K]/DATA[data]/data is required and hasn't been supplied by the reader.\n",
      "WARNING: The data entry corresponding to /ENTRY[41K]/INSTRUMENT[instrument]/DETECTOR[detector]/polar_angle is required and hasn't been supplied by the reader.\n",
      "WARNING: The data entry corresponding to /ENTRY[41K]/DATA[data]/polar_angle is required and hasn't been supplied by the reader.\n",
      "WARNING: The data entry corresponding to /ENTRY[41K]/DATA[data]/data is required and hasn't been supplied by the reader.\n",
      "WARNING: The data entry corresponding to /ENTRY[52K]/INSTRUMENT[instrument]/DETECTOR[detector]/polar_angle is required and hasn't been supplied by the reader.\n",
      "WARNING: The data entry corresponding to /ENTRY[52K]/DATA[data]/polar_angle is required and hasn't been supplied by the reader.\n",
      "WARNING: The data entry corresponding to /ENTRY[52K]/DATA[data]/data is required and hasn't been supplied by the reader.\n",
      "WARNING: The data entry corresponding to /ENTRY[61K]/INSTRUMENT[instrument]/DETECTOR[detector]/polar_angle is required and hasn't been supplied by the reader.\n",
      "WARNING: The data entry corresponding to /ENTRY[61K]/DATA[data]/polar_angle is required and hasn't been supplied by the reader.\n",
      "WARNING: The data entry corresponding to /ENTRY[61K]/DATA[data]/data is required and hasn't been supplied by the reader.\n",
      "WARNING: The data entry corresponding to /ENTRY[66K]/INSTRUMENT[instrument]/DETECTOR[detector]/polar_angle is required and hasn't been supplied by the reader.\n",
      "WARNING: The data entry corresponding to /ENTRY[66K]/DATA[data]/polar_angle is required and hasn't been supplied by the reader.\n",
      "WARNING: The data entry corresponding to /ENTRY[66K]/DATA[data]/data is required and hasn't been supplied by the reader.\n",
      "WARNING: The data entry corresponding to /ENTRY[71K]/INSTRUMENT[instrument]/DETECTOR[detector]/polar_angle is required and hasn't been supplied by the reader.\n",
      "WARNING: The data entry corresponding to /ENTRY[71K]/DATA[data]/polar_angle is required and hasn't been supplied by the reader.\n",
      "WARNING: The data entry corresponding to /ENTRY[71K]/DATA[data]/data is required and hasn't been supplied by the reader.\n",
      "WARNING: The data entry corresponding to /ENTRY[76K]/INSTRUMENT[instrument]/DETECTOR[detector]/polar_angle is required and hasn't been supplied by the reader.\n",
      "WARNING: The data entry corresponding to /ENTRY[76K]/DATA[data]/polar_angle is required and hasn't been supplied by the reader.\n",
      "WARNING: The data entry corresponding to /ENTRY[76K]/DATA[data]/data is required and hasn't been supplied by the reader.\n",
      "WARNING: The data entry corresponding to /ENTRY[81K]/INSTRUMENT[instrument]/DETECTOR[detector]/polar_angle is required and hasn't been supplied by the reader.\n",
      "WARNING: The data entry corresponding to /ENTRY[81K]/DATA[data]/polar_angle is required and hasn't been supplied by the reader.\n",
      "WARNING: The data entry corresponding to /ENTRY[81K]/DATA[data]/data is required and hasn't been supplied by the reader.\n",
      "WARNING: The data entry corresponding to /ENTRY[86K]/INSTRUMENT[instrument]/DETECTOR[detector]/polar_angle is required and hasn't been supplied by the reader.\n",
      "WARNING: The data entry corresponding to /ENTRY[86K]/DATA[data]/polar_angle is required and hasn't been supplied by the reader.\n",
      "WARNING: The data entry corresponding to /ENTRY[86K]/DATA[data]/data is required and hasn't been supplied by the reader.\n",
      "WARNING: The required group, /entry, hasn't been supplied.\n",
      "The output file generated: Fig2a.nxs.\n"
     ]
    }
   ],
   "source": [
    "# Fig 2a\n",
    "metadata = {\"user0/name\": \"Laurenz Rettig\",\n",
    "            \"user0/affiliation\": \"Fritz Haber Institute of the Max Planck Society\",\n",
    "            \"instrument/beam/incident_energy\": 1187.5, \n",
    "            \"instrument/beam/probe/pulse_duration\": 70, \n",
    "            \"sample/chemical_formula\": \"GdIr2Si2\", \n",
    "            \"sample/name\": \"GdIr2Si2 single crystal\",\n",
    "            \"data/@units\": \"Counts/monitor\",\n",
    "            \"ax0/@units\": \"r.l.u\"\n",
    "            }\n",
    "entry_dict = {}\n",
    "scans = [57, 65, 69, 73, 77, 79, 81, 83, 85, 87]\n",
    "temperatures = [16, 32, 41, 52, 61, 66, 71, 76, 81, 86]\n",
    "for scan, temperature in zip(scans, temperatures):\n",
    "    entry_dict[f\"{temperature}K\"] = {\"data\": f\"root/Norm_00{scan}\", \"ax0\": f\"root/Raw/SPECScan_00{scan}/QWave\", \"metadata\": {**metadata, **{\"sample/temperature\": temperature, \"entry_title\": f\"Resolved resonant x-ray diffraction data of GdIr2Si2 at {temperature} K\"}}}\n",
    "\n",
    "entry_dict\n",
    "convert([\"config_file_peaks.json\", \"Fig2a.pxp\"], \"igor_fhi\", \"NXxrd\", \"Fig2a.nxs\", objects=entry_dict)"
   ]
  },
  {
   "cell_type": "code",
   "execution_count": 8,
   "metadata": {},
   "outputs": [
    {
     "name": "stderr",
     "output_type": "stream",
     "text": [
      "Using igor_fhi reader to convert the given files:  \n",
      "• config_file_peaks.json\n",
      "• Fig2b.pxp\n",
      "WARNING: The data entry corresponding to /ENTRY[24K]/INSTRUMENT[instrument]/DETECTOR[detector]/polar_angle is required and hasn't been supplied by the reader.\n",
      "WARNING: The data entry corresponding to /ENTRY[24K]/DATA[data]/polar_angle is required and hasn't been supplied by the reader.\n",
      "WARNING: The data entry corresponding to /ENTRY[24K]/DATA[data]/data is required and hasn't been supplied by the reader.\n",
      "WARNING: The data entry corresponding to /ENTRY[26K]/INSTRUMENT[instrument]/DETECTOR[detector]/polar_angle is required and hasn't been supplied by the reader.\n",
      "WARNING: The data entry corresponding to /ENTRY[26K]/DATA[data]/polar_angle is required and hasn't been supplied by the reader.\n",
      "WARNING: The data entry corresponding to /ENTRY[26K]/DATA[data]/data is required and hasn't been supplied by the reader.\n",
      "WARNING: The data entry corresponding to /ENTRY[28K]/INSTRUMENT[instrument]/DETECTOR[detector]/polar_angle is required and hasn't been supplied by the reader.\n",
      "WARNING: The data entry corresponding to /ENTRY[28K]/DATA[data]/polar_angle is required and hasn't been supplied by the reader.\n",
      "WARNING: The data entry corresponding to /ENTRY[28K]/DATA[data]/data is required and hasn't been supplied by the reader.\n",
      "WARNING: The data entry corresponding to /ENTRY[30K]/INSTRUMENT[instrument]/DETECTOR[detector]/polar_angle is required and hasn't been supplied by the reader.\n",
      "WARNING: The data entry corresponding to /ENTRY[30K]/DATA[data]/polar_angle is required and hasn't been supplied by the reader.\n",
      "WARNING: The data entry corresponding to /ENTRY[30K]/DATA[data]/data is required and hasn't been supplied by the reader.\n",
      "WARNING: The data entry corresponding to /ENTRY[32K]/INSTRUMENT[instrument]/DETECTOR[detector]/polar_angle is required and hasn't been supplied by the reader.\n",
      "WARNING: The data entry corresponding to /ENTRY[32K]/DATA[data]/polar_angle is required and hasn't been supplied by the reader.\n",
      "WARNING: The data entry corresponding to /ENTRY[32K]/DATA[data]/data is required and hasn't been supplied by the reader.\n",
      "WARNING: The data entry corresponding to /ENTRY[34K]/INSTRUMENT[instrument]/DETECTOR[detector]/polar_angle is required and hasn't been supplied by the reader.\n",
      "WARNING: The data entry corresponding to /ENTRY[34K]/DATA[data]/polar_angle is required and hasn't been supplied by the reader.\n",
      "WARNING: The data entry corresponding to /ENTRY[34K]/DATA[data]/data is required and hasn't been supplied by the reader.\n",
      "WARNING: The data entry corresponding to /ENTRY[36K]/INSTRUMENT[instrument]/DETECTOR[detector]/polar_angle is required and hasn't been supplied by the reader.\n",
      "WARNING: The data entry corresponding to /ENTRY[36K]/DATA[data]/polar_angle is required and hasn't been supplied by the reader.\n",
      "WARNING: The data entry corresponding to /ENTRY[36K]/DATA[data]/data is required and hasn't been supplied by the reader.\n",
      "WARNING: The data entry corresponding to /ENTRY[38K]/INSTRUMENT[instrument]/DETECTOR[detector]/polar_angle is required and hasn't been supplied by the reader.\n",
      "WARNING: The data entry corresponding to /ENTRY[38K]/DATA[data]/polar_angle is required and hasn't been supplied by the reader.\n",
      "WARNING: The data entry corresponding to /ENTRY[38K]/DATA[data]/data is required and hasn't been supplied by the reader.\n",
      "WARNING: The data entry corresponding to /ENTRY[40K]/INSTRUMENT[instrument]/DETECTOR[detector]/polar_angle is required and hasn't been supplied by the reader.\n",
      "WARNING: The data entry corresponding to /ENTRY[40K]/DATA[data]/polar_angle is required and hasn't been supplied by the reader.\n",
      "WARNING: The data entry corresponding to /ENTRY[40K]/DATA[data]/data is required and hasn't been supplied by the reader.\n",
      "WARNING: The data entry corresponding to /ENTRY[42K]/INSTRUMENT[instrument]/DETECTOR[detector]/polar_angle is required and hasn't been supplied by the reader.\n",
      "WARNING: The data entry corresponding to /ENTRY[42K]/DATA[data]/polar_angle is required and hasn't been supplied by the reader.\n",
      "WARNING: The data entry corresponding to /ENTRY[42K]/DATA[data]/data is required and hasn't been supplied by the reader.\n",
      "WARNING: The data entry corresponding to /ENTRY[43K]/INSTRUMENT[instrument]/DETECTOR[detector]/polar_angle is required and hasn't been supplied by the reader.\n",
      "WARNING: The data entry corresponding to /ENTRY[43K]/DATA[data]/polar_angle is required and hasn't been supplied by the reader.\n",
      "WARNING: The data entry corresponding to /ENTRY[43K]/DATA[data]/data is required and hasn't been supplied by the reader.\n",
      "WARNING: The data entry corresponding to /ENTRY[44K]/INSTRUMENT[instrument]/DETECTOR[detector]/polar_angle is required and hasn't been supplied by the reader.\n",
      "WARNING: The data entry corresponding to /ENTRY[44K]/DATA[data]/polar_angle is required and hasn't been supplied by the reader.\n",
      "WARNING: The data entry corresponding to /ENTRY[44K]/DATA[data]/data is required and hasn't been supplied by the reader.\n",
      "WARNING: The required group, /entry, hasn't been supplied.\n",
      "The output file generated: Fig2b.nxs.\n"
     ]
    }
   ],
   "source": [
    "# Fig 2b\n",
    "infile = \"Fig2b.pxp\"\n",
    "outfile = \"Fig2b.nxs\"\n",
    "configfile = \"config_file_peaks.json\"\n",
    "metadata = {\"user0/name\": \"Laurenz Rettig\",\n",
    "            \"user0/affiliation\": \"Fritz Haber Institute of the Max Planck Society\",\n",
    "            \"instrument/beam/incident_energy\": 1187.5, \n",
    "            \"instrument/beam/probe/pulse_duration\": 70, \n",
    "            \"sample/chemical_formula\": \"GdCo2Si2\", \n",
    "            \"sample/name\": \"GdCo2Si2 single crystal\",\n",
    "            \"data/@units\": \"Counts/monitor\",\n",
    "            \"ax0/@units\": \"r.l.u\"\n",
    "            }\n",
    "entry_dict = {}\n",
    "scans = [137, 141, 147, 151, 155, 159, 163, 167, 171, 175, 177, 179]\n",
    "temperatures = [24, 26, 28, 30, 32, 34, 36, 38, 40, 42, 43, 44]\n",
    "for scan, temperature in zip(scans, temperatures):\n",
    "    entry_dict[f\"{temperature}K\"] = {\"data\": f\"root/SPECScan_0{scan}/dsml_n_0{scan}\", \"ax0\": f\"root/SPECScan_0{scan}/L_0{scan}\", \"metadata\": {**metadata, **{\"sample/temperature\": temperature, \"entry_title\": f\"Resolved resonant x-ray diffraction data of GdIr2Si2 at {temperature} K\"}}}\n",
    "\n",
    "entry_dict\n",
    "convert([configfile, infile], \"igor_fhi\", \"NXxrd\", outfile, objects=entry_dict)"
   ]
  },
  {
   "cell_type": "code",
   "execution_count": 10,
   "metadata": {},
   "outputs": [
    {
     "name": "stderr",
     "output_type": "stream",
     "text": [
      "Using igor_fhi reader to convert the given files:  \n",
      "• config_file_temperatures.json\n",
      "• Fig2c.pxp\n",
      "WARNING: The data entry corresponding to /ENTRY[GdCo2Si2]/INSTRUMENT[instrument]/DETECTOR[detector]/polar_angle is required and hasn't been supplied by the reader.\n",
      "WARNING: The data entry corresponding to /ENTRY[GdCo2Si2]/DATA[data]/polar_angle is required and hasn't been supplied by the reader.\n",
      "WARNING: The data entry corresponding to /ENTRY[GdCo2Si2]/DATA[data]/data is required and hasn't been supplied by the reader.\n",
      "WARNING: The data entry corresponding to /ENTRY[GdIr2Si2]/INSTRUMENT[instrument]/DETECTOR[detector]/polar_angle is required and hasn't been supplied by the reader.\n",
      "WARNING: The data entry corresponding to /ENTRY[GdIr2Si2]/DATA[data]/polar_angle is required and hasn't been supplied by the reader.\n",
      "WARNING: The data entry corresponding to /ENTRY[GdIr2Si2]/DATA[data]/data is required and hasn't been supplied by the reader.\n",
      "WARNING: The data entry corresponding to /ENTRY[GdRh2Si2]/INSTRUMENT[instrument]/DETECTOR[detector]/polar_angle is required and hasn't been supplied by the reader.\n",
      "WARNING: The data entry corresponding to /ENTRY[GdRh2Si2]/DATA[data]/polar_angle is required and hasn't been supplied by the reader.\n",
      "WARNING: The data entry corresponding to /ENTRY[GdRh2Si2]/DATA[data]/data is required and hasn't been supplied by the reader.\n",
      "WARNING: The required group, /entry, hasn't been supplied.\n",
      "The output file generated: Fig2c.nxs.\n"
     ]
    }
   ],
   "source": [
    "# Fig 2c\n",
    "infile = \"Fig2c.pxp\"\n",
    "outfile = \"Fig2c.nxs\"\n",
    "configfile = \"config_file_temperatures.json\"\n",
    "metadata = {\"user0/name\": \"Laurenz Rettig\",\n",
    "            \"user0/affiliation\": \"Fritz Haber Institute of the Max Planck Society\",\n",
    "            \"instrument/beam/incident_energy\": 1187.5, \n",
    "            \"instrument/beam/probe/pulse_duration\": 70, \n",
    "            \"data/@units\": \"norm.\",\n",
    "            \"ax0/@units\": \"norm.\"\n",
    "            }\n",
    "entry_dict = {}\n",
    "scans = [\"GdRh_Tdep_202102/si_amp_norm\", \"GdIr_Tdep_202102/si_amp_norm\", \"GdCo_Tdep_Kurt/IntegratedAmplitude_left\"]\n",
    "x_data = [\"GdRh_Tdep_202102/GdRh_T_B_norm\", \"GdIr_Tdep_202102/GdIr_T_B_norm\", \"GdCo_Tdep_Kurt/Kurt_T_stage\"]\n",
    "materials = [\"GdRh2Si2\", \"GdIr2Si2\", \"GdCo2Si2\"]\n",
    "for scan, x, material in zip(scans, x_data, materials):\n",
    "    entry_dict[f\"{material}\"] = {\"data\": f\"root/{scan}\", \"ax0\": f\"root/{x}\", \"error\": f\"root/{scan}_sig\", \"metadata\": {**metadata, **{\"sample/chemical_formula\": material, \"sample/name\": f\"{material} single crystal\", \"entry_title\": f\"Resonant x-ray diffraction data of {material}\"}}}\n",
    "\n",
    "entry_dict\n",
    "convert([configfile, infile], \"igor_fhi\", \"NXxrd\", outfile, objects=entry_dict)"
   ]
  },
  {
   "cell_type": "code",
   "execution_count": 12,
   "metadata": {},
   "outputs": [
    {
     "name": "stderr",
     "output_type": "stream",
     "text": [
      "Using igor_fhi reader to convert the given files:  \n",
      "• config_file_energies.json\n",
      "• Fig2d.pxp\n"
     ]
    },
    {
     "name": "stderr",
     "output_type": "stream",
     "text": [
      "WARNING: The data entry corresponding to /ENTRY[GdCo2Si2]/INSTRUMENT[instrument]/DETECTOR[detector]/polar_angle is required and hasn't been supplied by the reader.\n",
      "WARNING: The data entry corresponding to /ENTRY[GdCo2Si2]/DATA[data]/polar_angle is required and hasn't been supplied by the reader.\n",
      "WARNING: The data entry corresponding to /ENTRY[GdCo2Si2]/DATA[data]/data is required and hasn't been supplied by the reader.\n",
      "WARNING: The data entry corresponding to /ENTRY[GdIr2Si2]/INSTRUMENT[instrument]/DETECTOR[detector]/polar_angle is required and hasn't been supplied by the reader.\n",
      "WARNING: The data entry corresponding to /ENTRY[GdIr2Si2]/DATA[data]/polar_angle is required and hasn't been supplied by the reader.\n",
      "WARNING: The data entry corresponding to /ENTRY[GdIr2Si2]/DATA[data]/data is required and hasn't been supplied by the reader.\n",
      "WARNING: The data entry corresponding to /ENTRY[GdRh2Si2]/INSTRUMENT[instrument]/DETECTOR[detector]/polar_angle is required and hasn't been supplied by the reader.\n",
      "WARNING: The data entry corresponding to /ENTRY[GdRh2Si2]/DATA[data]/polar_angle is required and hasn't been supplied by the reader.\n",
      "WARNING: The data entry corresponding to /ENTRY[GdRh2Si2]/DATA[data]/data is required and hasn't been supplied by the reader.\n",
      "WARNING: The required group, /entry, hasn't been supplied.\n",
      "The output file generated: Fig2d.nxs.\n"
     ]
    }
   ],
   "source": [
    "# Fig 2d\n",
    "infile = \"Fig2d.pxp\"\n",
    "outfile = \"Fig2d.nxs\"\n",
    "configfile = \"config_file_energies.json\"\n",
    "metadata = {\"user0/name\": \"Laurenz Rettig\",\n",
    "            \"user0/affiliation\": \"Fritz Haber Institute of the Max Planck Society\",\n",
    "            \"instrument/beam/incident_energy\": 1187.5, \n",
    "            \"instrument/beam/probe/pulse_duration\": 70, \n",
    "            \"data/@units\": \"norm.\",\n",
    "            \"ax0/@units\": \"eV\"\n",
    "            }\n",
    "entry_dict = {}\n",
    "scans = [\"GdRh/voigt_area\", \"GdIr/voigt_area\", \"GdCo/voigt1_area_left\"]\n",
    "x_data = [\"GdRh/GdRh_Ecut_energy\", \"GdIr/GdIr_Ecut_energy\", \"GdCo/GdCo_Ecut_energy\"]\n",
    "materials = [\"GdRh2Si2\", \"GdIr2Si2\", \"GdCo2Si2\"]\n",
    "for scan, x, material in zip(scans, x_data, materials):\n",
    "    entry_dict[f\"{material}\"] = {\"data\": f\"root/{scan}\", \"ax0\": f\"root/{x}\", \"error\": f\"root/{scan}_sig\", \"metadata\": {**metadata, **{\"sample/chemical_formula\": material, \"sample/name\": f\"{material} single crystal\", \"entry_title\": f\"Resonant x-ray diffraction data of {material}\"}}}\n",
    "\n",
    "entry_dict\n",
    "convert([configfile, infile], \"igor_fhi\", \"NXxrd\", outfile, objects=entry_dict)"
   ]
  },
  {
   "cell_type": "code",
   "execution_count": 13,
   "metadata": {},
   "outputs": [
    {
     "name": "stderr",
     "output_type": "stream",
     "text": [
      "Using igor_fhi reader to convert the given files:  \n",
      "• config_file_delay_scans.json\n",
      "• Fig3a.pxp\n",
      "WARNING: The data entry corresponding to /ENTRY[GdCo2Si2]/INSTRUMENT[instrument]/DETECTOR[detector]/polar_angle is required and hasn't been supplied by the reader.\n",
      "WARNING: The data entry corresponding to /ENTRY[GdCo2Si2]/DATA[data]/polar_angle is required and hasn't been supplied by the reader.\n",
      "WARNING: The data entry corresponding to /ENTRY[GdCo2Si2]/DATA[data]/data is required and hasn't been supplied by the reader.\n",
      "WARNING: The data entry corresponding to /ENTRY[GdIr2Si2]/INSTRUMENT[instrument]/DETECTOR[detector]/polar_angle is required and hasn't been supplied by the reader.\n",
      "WARNING: The data entry corresponding to /ENTRY[GdIr2Si2]/DATA[data]/polar_angle is required and hasn't been supplied by the reader.\n",
      "WARNING: The data entry corresponding to /ENTRY[GdIr2Si2]/DATA[data]/data is required and hasn't been supplied by the reader.\n",
      "WARNING: The data entry corresponding to /ENTRY[GdRh2Si2]/INSTRUMENT[instrument]/DETECTOR[detector]/polar_angle is required and hasn't been supplied by the reader.\n",
      "WARNING: The data entry corresponding to /ENTRY[GdRh2Si2]/DATA[data]/polar_angle is required and hasn't been supplied by the reader.\n",
      "WARNING: The data entry corresponding to /ENTRY[GdRh2Si2]/DATA[data]/data is required and hasn't been supplied by the reader.\n",
      "WARNING: The required group, /entry, hasn't been supplied.\n",
      "The output file generated: Fig3a.nxs.\n"
     ]
    }
   ],
   "source": [
    "# Fig 3a\n",
    "infile = \"Fig3a.pxp\"\n",
    "outfile = \"Fig3a.nxs\"\n",
    "configfile = \"config_file_delay_scans.json\"\n",
    "metadata = {\"user0/name\": \"Laurenz Rettig\",\n",
    "            \"user0/affiliation\": \"Fritz Haber Institute of the Max Planck Society\",\n",
    "            \"instrument/beam/incident_energy\": 1187.5, \n",
    "            \"instrument/beam/probe/pulse_duration\": 100, \n",
    "            \"sample/chemical_formula\": \"GdIr2Si2\", \n",
    "            \"sample/name\": \"GdIr2Si2 single crystal\",\n",
    "            \"sample/temperature\": 20,\n",
    "            \"data/@units\": \"\",\n",
    "            \"ax0/@units\": \"ps\"\n",
    "            }\n",
    "entry_dict = {}\n",
    "scans = [\"correction_2022Jan/GdCo_amp_08\", \"GdRh_ds_030_amp\", \"GdIr_ds_0200_amp\"]\n",
    "x_data = [\"decay_shift_corrected/data/delay_08mJ\", \"GdRh_ds_030_x\", \"GdIr_ds_0200_x\"]\n",
    "fluences = [0.46, 2.10, 1.49]\n",
    "materials = [\"GdCo2Si2\", \"GdRh2Si2\", \"GdIr2Si2\"]\n",
    "for scan, x, fluence, material in zip(scans, x_data, fluences, materials):\n",
    "    entry_dict[f\"{material}\"] = {\"data\": f\"root/{material}/{scan}\", \"ax0\": f\"root/{material}/{x}\", \"error\": f\"root/{material}/{scan}_err\", \"metadata\": {**metadata, **{\"sample/chemical_formula\": material, \"sample/name\": f\"{material} single crystal\", \"instrument/beam/pump/fluence\": fluence, \"entry_title\": f\"Time-resolved resonant x-ray diffraction data of {material}\"}}}\n",
    "\n",
    "convert([configfile, infile], \"igor_fhi\", \"NXxrd\", outfile, objects=entry_dict)"
   ]
  },
  {
   "cell_type": "code",
   "execution_count": 14,
   "metadata": {},
   "outputs": [
    {
     "name": "stderr",
     "output_type": "stream",
     "text": [
      "Using igor_fhi reader to convert the given files:  \n",
      "• config_file_theory.json\n",
      "• Fig4a.pxp\n",
      "WARNING: The data entry corresponding to /ENTRY[GdCo2Si2]/DATA[data]/polar_angle is required and hasn't been supplied by the reader.\n",
      "WARNING: The data entry corresponding to /ENTRY[GdCo2Si2]/DATA[data]/data is required and hasn't been supplied by the reader.\n",
      "WARNING: The data entry corresponding to /ENTRY[GdIr2Si2]/DATA[data]/polar_angle is required and hasn't been supplied by the reader.\n",
      "WARNING: The data entry corresponding to /ENTRY[GdIr2Si2]/DATA[data]/data is required and hasn't been supplied by the reader.\n",
      "WARNING: The data entry corresponding to /ENTRY[GdRh2Si2]/DATA[data]/polar_angle is required and hasn't been supplied by the reader.\n",
      "WARNING: The data entry corresponding to /ENTRY[GdRh2Si2]/DATA[data]/data is required and hasn't been supplied by the reader.\n",
      "WARNING: The required group, /entry, hasn't been supplied.\n",
      "The output file generated: Fig4a.nxs.\n"
     ]
    }
   ],
   "source": [
    "# Fig 4a\n",
    "infile = \"Fig4a.pxp\"\n",
    "outfile = \"Fig4a.nxs\"\n",
    "configfile = \"config_file_theory.json\"\n",
    "metadata = {\"user0/name\": \"Arthur Ernst\",\n",
    "            \"user0/affiliation\": \"Max-Planck-Institut für Mikrostrukturphysik\",\n",
    "            \"sample/chemical_formula\": \"GdIr2Si2\", \n",
    "            \"data/@units\": \"\",\n",
    "            \"ax0/@units\": \"eV\"\n",
    "            }\n",
    "entry_dict = {}\n",
    "scans = [\"Co_spin_pol\", \"Rh_spin_pol\", \"Ir_spin_pol\"]\n",
    "x_data = [\"Co_E\", \"Rh_E\", \"Ir_E\"]\n",
    "materials = [\"GdCo2Si2\", \"GdRh2Si2\", \"GdIr2Si2\"]\n",
    "for scan, x, material in zip(scans, x_data, materials):\n",
    "    entry_dict[f\"{material}\"] = {\"data\": f\"root/{scan}\", \"ax0\": f\"root/{x}\", \"metadata\": {**metadata, **{\"sample/chemical_formula\": material, \"entry_title\": f\"Gd 5d spin polarization calculated for {material}\"}}}\n",
    "\n",
    "convert([configfile, infile], \"igor_fhi\", \"NXxrd\", outfile, objects=entry_dict)"
   ]
  },
  {
   "cell_type": "code",
   "execution_count": 23,
   "metadata": {},
   "outputs": [
    {
     "name": "stderr",
     "output_type": "stream",
     "text": [
      "Using igor_fhi reader to convert the given files:  \n",
      "• config_file_delay_scans.json\n",
      "• Fig7a.pxp\n",
      "WARNING: The data entry corresponding to /ENTRY[0.11_mJcm2]/INSTRUMENT[instrument]/DETECTOR[detector]/polar_angle is required and hasn't been supplied by the reader.\n",
      "WARNING: The data entry corresponding to /ENTRY[0.11_mJcm2]/DATA[data]/polar_angle is required and hasn't been supplied by the reader.\n",
      "WARNING: The data entry corresponding to /ENTRY[0.11_mJcm2]/DATA[data]/data is required and hasn't been supplied by the reader.\n",
      "WARNING: The data entry corresponding to /ENTRY[0.23_mJcm2]/INSTRUMENT[instrument]/DETECTOR[detector]/polar_angle is required and hasn't been supplied by the reader.\n",
      "WARNING: The data entry corresponding to /ENTRY[0.23_mJcm2]/DATA[data]/polar_angle is required and hasn't been supplied by the reader.\n",
      "WARNING: The data entry corresponding to /ENTRY[0.23_mJcm2]/DATA[data]/data is required and hasn't been supplied by the reader.\n",
      "WARNING: The data entry corresponding to /ENTRY[0.34_mJcm2]/INSTRUMENT[instrument]/DETECTOR[detector]/polar_angle is required and hasn't been supplied by the reader.\n",
      "WARNING: The data entry corresponding to /ENTRY[0.34_mJcm2]/DATA[data]/polar_angle is required and hasn't been supplied by the reader.\n",
      "WARNING: The data entry corresponding to /ENTRY[0.34_mJcm2]/DATA[data]/data is required and hasn't been supplied by the reader.\n",
      "WARNING: The data entry corresponding to /ENTRY[0.46_mJcm2]/INSTRUMENT[instrument]/DETECTOR[detector]/polar_angle is required and hasn't been supplied by the reader.\n",
      "WARNING: The data entry corresponding to /ENTRY[0.46_mJcm2]/DATA[data]/polar_angle is required and hasn't been supplied by the reader.\n",
      "WARNING: The data entry corresponding to /ENTRY[0.46_mJcm2]/DATA[data]/data is required and hasn't been supplied by the reader.\n",
      "WARNING: The data entry corresponding to /ENTRY[0.68_mJcm2]/INSTRUMENT[instrument]/DETECTOR[detector]/polar_angle is required and hasn't been supplied by the reader.\n",
      "WARNING: The data entry corresponding to /ENTRY[0.68_mJcm2]/DATA[data]/polar_angle is required and hasn't been supplied by the reader.\n",
      "WARNING: The data entry corresponding to /ENTRY[0.68_mJcm2]/DATA[data]/data is required and hasn't been supplied by the reader.\n",
      "WARNING: The data entry corresponding to /ENTRY[1.14_mJcm2]/INSTRUMENT[instrument]/DETECTOR[detector]/polar_angle is required and hasn't been supplied by the reader.\n",
      "WARNING: The data entry corresponding to /ENTRY[1.14_mJcm2]/DATA[data]/polar_angle is required and hasn't been supplied by the reader.\n",
      "WARNING: The data entry corresponding to /ENTRY[1.14_mJcm2]/DATA[data]/data is required and hasn't been supplied by the reader.\n",
      "WARNING: The required group, /entry, hasn't been supplied.\n",
      "The output file generated: Fig7a.nxs.\n"
     ]
    }
   ],
   "source": [
    "# Fig 7a\n",
    "infile = \"Fig7a.pxp\"\n",
    "outfile = \"Fig7a.nxs\"\n",
    "configfile = \"config_file_delay_scans.json\"\n",
    "metadata = {\"user0/name\": \"Laurenz Rettig\",\n",
    "            \"user0/affiliation\": \"Fritz Haber Institute of the Max Planck Society\",\n",
    "            \"instrument/beam/incident_energy\": 1187.5, \n",
    "            \"instrument/beam/probe/pulse_duration\": 100, \n",
    "            \"sample/chemical_formula\": \"GdCo2Si2\", \n",
    "            \"sample/name\": \"GdCo2Si2 single crystal\",\n",
    "            \"sample/temperature\": 20,\n",
    "            \"data/@units\": \"\",\n",
    "            \"ax0/@units\": \"ps\"\n",
    "            }\n",
    "entry_dict = {}\n",
    "scans = [\"02\", \"04\", \"06\", \"08\", \"12\", \"20\"]\n",
    "fluences = [0.11, 0.23, 0.34, 0.46, 0.68, 1.14]\n",
    "for scan, fluence in zip(scans, fluences):\n",
    "    entry_dict[f\"{fluence}_mJcm2\"] = {\"data\": f\"root/correction_2022Jan/GdCo_amp_{scan}\", \"ax0\": f\"root/decay_shift_corrected/data/delay_{scan}mJ\", \"error\": f\"root/decay_2021May_updated/amp_{scan}mJ_err\", \"metadata\": {**metadata, **{\"instrument/beam/pump/fluence\": fluence, \"entry_title\": f\"Time-resolved resonant x-ray diffraction data of GdCo2Si2\"}}}\n",
    "\n",
    "convert([configfile, infile], \"igor_fhi\", \"NXxrd\", outfile, objects=entry_dict)"
   ]
  },
  {
   "cell_type": "code",
   "execution_count": 25,
   "metadata": {},
   "outputs": [
    {
     "name": "stderr",
     "output_type": "stream",
     "text": [
      "Using igor_fhi reader to convert the given files:  \n",
      "• config_file_delay_scans.json\n",
      "• Fig7b.pxp\n"
     ]
    },
    {
     "name": "stderr",
     "output_type": "stream",
     "text": [
      "WARNING: The data entry corresponding to /ENTRY[0.35_mJcm2]/INSTRUMENT[instrument]/DETECTOR[detector]/polar_angle is required and hasn't been supplied by the reader.\n",
      "WARNING: The data entry corresponding to /ENTRY[0.35_mJcm2]/DATA[data]/polar_angle is required and hasn't been supplied by the reader.\n",
      "WARNING: The data entry corresponding to /ENTRY[0.35_mJcm2]/DATA[data]/data is required and hasn't been supplied by the reader.\n",
      "WARNING: The data entry corresponding to /ENTRY[0.7_mJcm2]/INSTRUMENT[instrument]/DETECTOR[detector]/polar_angle is required and hasn't been supplied by the reader.\n",
      "WARNING: The data entry corresponding to /ENTRY[0.7_mJcm2]/DATA[data]/polar_angle is required and hasn't been supplied by the reader.\n",
      "WARNING: The data entry corresponding to /ENTRY[0.7_mJcm2]/DATA[data]/data is required and hasn't been supplied by the reader.\n",
      "WARNING: The data entry corresponding to /ENTRY[1.05_mJcm2]/INSTRUMENT[instrument]/DETECTOR[detector]/polar_angle is required and hasn't been supplied by the reader.\n",
      "WARNING: The data entry corresponding to /ENTRY[1.05_mJcm2]/DATA[data]/polar_angle is required and hasn't been supplied by the reader.\n",
      "WARNING: The data entry corresponding to /ENTRY[1.05_mJcm2]/DATA[data]/data is required and hasn't been supplied by the reader.\n",
      "WARNING: The data entry corresponding to /ENTRY[1.4_mJcm2]/INSTRUMENT[instrument]/DETECTOR[detector]/polar_angle is required and hasn't been supplied by the reader.\n",
      "WARNING: The data entry corresponding to /ENTRY[1.4_mJcm2]/DATA[data]/polar_angle is required and hasn't been supplied by the reader.\n",
      "WARNING: The data entry corresponding to /ENTRY[1.4_mJcm2]/DATA[data]/data is required and hasn't been supplied by the reader.\n",
      "WARNING: The data entry corresponding to /ENTRY[2.1_mJcm2]/INSTRUMENT[instrument]/DETECTOR[detector]/polar_angle is required and hasn't been supplied by the reader.\n",
      "WARNING: The data entry corresponding to /ENTRY[2.1_mJcm2]/DATA[data]/polar_angle is required and hasn't been supplied by the reader.\n",
      "WARNING: The data entry corresponding to /ENTRY[2.1_mJcm2]/DATA[data]/data is required and hasn't been supplied by the reader.\n",
      "WARNING: The data entry corresponding to /ENTRY[3.5_mJcm2]/INSTRUMENT[instrument]/DETECTOR[detector]/polar_angle is required and hasn't been supplied by the reader.\n",
      "WARNING: The data entry corresponding to /ENTRY[3.5_mJcm2]/DATA[data]/polar_angle is required and hasn't been supplied by the reader.\n",
      "WARNING: The data entry corresponding to /ENTRY[3.5_mJcm2]/DATA[data]/data is required and hasn't been supplied by the reader.\n",
      "WARNING: The required group, /entry, hasn't been supplied.\n",
      "The output file generated: Fig7b.nxs.\n"
     ]
    }
   ],
   "source": [
    "# Fig 7b\n",
    "infile = \"Fig7b.pxp\"\n",
    "outfile = \"Fig7b.nxs\"\n",
    "configfile = \"config_file_delay_scans.json\"\n",
    "metadata = {\"user0/name\": \"Laurenz Rettig\",\n",
    "            \"user0/affiliation\": \"Fritz Haber Institute of the Max Planck Society\",\n",
    "            \"instrument/beam/incident_energy\": 1187.5, \n",
    "            \"instrument/beam/probe/pulse_duration\": 100, \n",
    "            \"sample/chemical_formula\": \"GdRh2Si2\", \n",
    "            \"sample/name\": \"GdRh2Si2 single crystal\",\n",
    "            \"sample/temperature\": 20,\n",
    "            \"data/@units\": \"\",\n",
    "            \"ax0/@units\": \"ps\"\n",
    "            }\n",
    "entry_dict = {}\n",
    "scans = [\"005\", \"010\", \"015\", \"020\", \"030\", \"050\"]\n",
    "fluences = [0.35, 0.70, 1.05, 1.40, 2.10, 3.50]\n",
    "for scan, fluence in zip(scans, fluences):\n",
    "    entry_dict[f\"{fluence}_mJcm2\"] = {\"data\": f\"root/GdRh_ds_{scan}_amp\", \"ax0\": f\"root/GdRh_ds_{scan}_x\", \"error\": f\"root/GdRh_ds_{scan}_amp_err\", \"metadata\": {**metadata, **{\"instrument/beam/pump/fluence\": fluence, \"entry_title\": f\"Time-resolved resonant x-ray diffraction data of GdRh2Si2\"}}}\n",
    "\n",
    "convert([configfile, infile], \"igor_fhi\", \"NXxrd\", outfile, objects=entry_dict)"
   ]
  },
  {
   "cell_type": "code",
   "execution_count": 26,
   "metadata": {},
   "outputs": [
    {
     "name": "stderr",
     "output_type": "stream",
     "text": [
      "Using igor_fhi reader to convert the given files:  \n",
      "• config_file_delay_scans.json\n",
      "• Fig7c.pxp\n",
      "WARNING: The data entry corresponding to /ENTRY[0.19_mJcm2]/INSTRUMENT[instrument]/DETECTOR[detector]/polar_angle is required and hasn't been supplied by the reader.\n",
      "WARNING: The data entry corresponding to /ENTRY[0.19_mJcm2]/DATA[data]/polar_angle is required and hasn't been supplied by the reader.\n",
      "WARNING: The data entry corresponding to /ENTRY[0.19_mJcm2]/DATA[data]/data is required and hasn't been supplied by the reader.\n",
      "WARNING: The data entry corresponding to /ENTRY[0.37_mJcm2]/INSTRUMENT[instrument]/DETECTOR[detector]/polar_angle is required and hasn't been supplied by the reader.\n",
      "WARNING: The data entry corresponding to /ENTRY[0.37_mJcm2]/DATA[data]/polar_angle is required and hasn't been supplied by the reader.\n",
      "WARNING: The data entry corresponding to /ENTRY[0.37_mJcm2]/DATA[data]/data is required and hasn't been supplied by the reader.\n",
      "WARNING: The data entry corresponding to /ENTRY[0.75_mJcm2]/INSTRUMENT[instrument]/DETECTOR[detector]/polar_angle is required and hasn't been supplied by the reader.\n",
      "WARNING: The data entry corresponding to /ENTRY[0.75_mJcm2]/DATA[data]/polar_angle is required and hasn't been supplied by the reader.\n",
      "WARNING: The data entry corresponding to /ENTRY[0.75_mJcm2]/DATA[data]/data is required and hasn't been supplied by the reader.\n",
      "WARNING: The data entry corresponding to /ENTRY[1.12_mJcm2]/INSTRUMENT[instrument]/DETECTOR[detector]/polar_angle is required and hasn't been supplied by the reader.\n",
      "WARNING: The data entry corresponding to /ENTRY[1.12_mJcm2]/DATA[data]/polar_angle is required and hasn't been supplied by the reader.\n",
      "WARNING: The data entry corresponding to /ENTRY[1.12_mJcm2]/DATA[data]/data is required and hasn't been supplied by the reader.\n",
      "WARNING: The data entry corresponding to /ENTRY[1.49_mJcm2]/INSTRUMENT[instrument]/DETECTOR[detector]/polar_angle is required and hasn't been supplied by the reader.\n",
      "WARNING: The data entry corresponding to /ENTRY[1.49_mJcm2]/DATA[data]/polar_angle is required and hasn't been supplied by the reader.\n",
      "WARNING: The data entry corresponding to /ENTRY[1.49_mJcm2]/DATA[data]/data is required and hasn't been supplied by the reader.\n",
      "WARNING: The data entry corresponding to /ENTRY[2.24_mJcm2]/INSTRUMENT[instrument]/DETECTOR[detector]/polar_angle is required and hasn't been supplied by the reader.\n",
      "WARNING: The data entry corresponding to /ENTRY[2.24_mJcm2]/DATA[data]/polar_angle is required and hasn't been supplied by the reader.\n",
      "WARNING: The data entry corresponding to /ENTRY[2.24_mJcm2]/DATA[data]/data is required and hasn't been supplied by the reader.\n",
      "WARNING: The required group, /entry, hasn't been supplied.\n",
      "The output file generated: Fig7c.nxs.\n"
     ]
    }
   ],
   "source": [
    "# Fig 7c\n",
    "infile = \"Fig7c.pxp\"\n",
    "outfile = \"Fig7c.nxs\"\n",
    "configfile = \"config_file_delay_scans.json\"\n",
    "metadata = {\"user0/name\": \"Laurenz Rettig\",\n",
    "            \"user0/affiliation\": \"Fritz Haber Institute of the Max Planck Society\",\n",
    "            \"instrument/beam/incident_energy\": 1187.5, \n",
    "            \"instrument/beam/probe/pulse_duration\": 100, \n",
    "            \"sample/chemical_formula\": \"GdIr2Si2\", \n",
    "            \"sample/name\": \"GdIr2Si2 single crystal\",\n",
    "            \"sample/temperature\": 20,\n",
    "            \"data/@units\": \"\",\n",
    "            \"ax0/@units\": \"ps\"\n",
    "            }\n",
    "entry_dict = {}\n",
    "scans = [\"0025\", \"0050\", \"0100\", \"0150\", \"0200\", \"0300\"]\n",
    "fluences = [0.19, 0.37, 0.75, 1.12, 1.49, 2.24]\n",
    "for scan, fluence in zip(scans, fluences):\n",
    "    entry_dict[f\"{fluence}_mJcm2\"] = {\"data\": f\"root/GdIr_ds_{scan}_amp\", \"ax0\": f\"root/GdIr_ds_{scan}_x\", \"error\": f\"root/GdIr_ds_{scan}_amp_err\", \"metadata\": {**metadata, **{\"instrument/beam/pump/fluence\": fluence, \"entry_title\": f\"Time-resolved resonant x-ray diffraction data of GdRh2Si2\"}}}\n",
    "\n",
    "convert([configfile, infile], \"igor_fhi\", \"NXxrd\", outfile, objects=entry_dict)"
   ]
  },
  {
   "cell_type": "code",
   "execution_count": null,
   "metadata": {},
   "outputs": [],
   "source": []
  }
 ],
 "metadata": {
  "kernelspec": {
   "display_name": ".pyenv",
   "language": "python",
   "name": "python3"
  },
  "language_info": {
   "codemirror_mode": {
    "name": "ipython",
    "version": 3
   },
   "file_extension": ".py",
   "mimetype": "text/x-python",
   "name": "python",
   "nbconvert_exporter": "python",
   "pygments_lexer": "ipython3",
   "version": "3.8.0"
  }
 },
 "nbformat": 4,
 "nbformat_minor": 2
}
